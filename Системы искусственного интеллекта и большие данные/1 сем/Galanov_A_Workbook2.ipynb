{
  "nbformat": 4,
  "nbformat_minor": 0,
  "metadata": {
    "colab": {
      "provenance": []
    },
    "kernelspec": {
      "name": "python3",
      "display_name": "Python 3"
    },
    "language_info": {
      "name": "python"
    }
  },
  "cells": [
    {
      "cell_type": "markdown",
      "source": [
        "Создать 8x8 матрицу и заполнить её в шахматном порядке нулями и\n",
        "единицами."
      ],
      "metadata": {
        "id": "nwB_VNWTGN-p"
      }
    },
    {
      "cell_type": "code",
      "execution_count": 55,
      "metadata": {
        "colab": {
          "base_uri": "https://localhost:8080/"
        },
        "id": "glVQDCQqGMcN",
        "outputId": "92e7ecaa-dffb-41b1-b1bf-05ac200e4763"
      },
      "outputs": [
        {
          "output_type": "stream",
          "name": "stdout",
          "text": [
            "[[0 1 0 1 0 1 0 1]\n",
            " [1 0 1 0 1 0 1 0]\n",
            " [0 1 0 1 0 1 0 1]\n",
            " [1 0 1 0 1 0 1 0]\n",
            " [0 1 0 1 0 1 0 1]\n",
            " [1 0 1 0 1 0 1 0]\n",
            " [0 1 0 1 0 1 0 1]\n",
            " [1 0 1 0 1 0 1 0]]\n"
          ]
        }
      ],
      "source": [
        "import numpy as np\n",
        "arr = np.arange(64).reshape(8,8)\n",
        "for i in range (0, 8):\n",
        "  for j in range(8):\n",
        "    arr[i][j] = i % 2 != j % 2\n",
        "print(arr)"
      ]
    },
    {
      "cell_type": "markdown",
      "source": [
        "Создать 5x5 матрицу со значениями в строках от 0 до 4. Для создания\n",
        "необходимо использовать функцию arrange."
      ],
      "metadata": {
        "id": "Lyc3j89bHE7o"
      }
    },
    {
      "cell_type": "code",
      "source": [
        "arr = np.arange(25).reshape(5,5)\n",
        "for i in range (0, 5):\n",
        "  arr[i] = arr[0]\n",
        "print(arr)"
      ],
      "metadata": {
        "colab": {
          "base_uri": "https://localhost:8080/"
        },
        "id": "xbiU5FkIHFY0",
        "outputId": "ed83f827-78fe-4eb3-a534-0eb7ff0b373f"
      },
      "execution_count": 56,
      "outputs": [
        {
          "output_type": "stream",
          "name": "stdout",
          "text": [
            "[[0 1 2 3 4]\n",
            " [0 1 2 3 4]\n",
            " [0 1 2 3 4]\n",
            " [0 1 2 3 4]\n",
            " [0 1 2 3 4]]\n"
          ]
        }
      ]
    },
    {
      "cell_type": "markdown",
      "source": [
        "Создать массив 3x3x3 со случайными значениями."
      ],
      "metadata": {
        "id": "W7n-s4geHW2R"
      }
    },
    {
      "cell_type": "code",
      "source": [
        "import numpy as np\n",
        "from random import randint\n",
        "\n",
        "arr = np.arange(27).reshape(3, 3, 3)\n",
        "for i in range (0, 3):\n",
        "  for j in range (0, 3):\n",
        "    for k in range(0, 3):\n",
        "      arr[i][j][k] = randint(0, 1000)\n",
        "print(arr)"
      ],
      "metadata": {
        "colab": {
          "base_uri": "https://localhost:8080/"
        },
        "id": "HUl0lkzEHWaI",
        "outputId": "626f1ef2-4100-4296-8a9a-1cb572a188be"
      },
      "execution_count": 57,
      "outputs": [
        {
          "output_type": "stream",
          "name": "stdout",
          "text": [
            "[[[540 850 204]\n",
            "  [344 822 395]\n",
            "  [564 482 628]]\n",
            "\n",
            " [[911 313 139]\n",
            "  [113 888 491]\n",
            "  [962   3 565]]\n",
            "\n",
            " [[ 44 860 921]\n",
            "  [271 487 577]\n",
            "  [201 405 668]]]\n"
          ]
        }
      ]
    },
    {
      "cell_type": "markdown",
      "source": [
        "Создать матрицу с 0 внутри, и 1 на границах."
      ],
      "metadata": {
        "id": "-85l1dDFHtPS"
      }
    },
    {
      "cell_type": "code",
      "source": [
        "import numpy as np\n",
        "from random import randint\n",
        "\n",
        "arr = np.arange(36).reshape(6, 6)\n",
        "for i in range (0, 6):\n",
        "  for j in range (0, 6):\n",
        "    if i == 0 or i == len(arr) - 1 or j == 0 or j == len(arr) - 1:\n",
        "      arr[i][j] = 1\n",
        "    else :\n",
        "      arr[i][j] = 0\n",
        "print(arr)"
      ],
      "metadata": {
        "colab": {
          "base_uri": "https://localhost:8080/"
        },
        "id": "IgklNBJTHtoR",
        "outputId": "b34cfc5d-900b-4fd5-a23c-ab692af6c833"
      },
      "execution_count": 58,
      "outputs": [
        {
          "output_type": "stream",
          "name": "stdout",
          "text": [
            "[[1 1 1 1 1 1]\n",
            " [1 0 0 0 0 1]\n",
            " [1 0 0 0 0 1]\n",
            " [1 0 0 0 0 1]\n",
            " [1 0 0 0 0 1]\n",
            " [1 1 1 1 1 1]]\n"
          ]
        }
      ]
    },
    {
      "cell_type": "markdown",
      "source": [
        "Создайте массив и отсортируйте его по убыванию."
      ],
      "metadata": {
        "id": "K2Xt7CjmIAg7"
      }
    },
    {
      "cell_type": "code",
      "source": [
        "import numpy as np\n",
        "from random import randint\n",
        "\n",
        "arr = np.array([1, 2, 3, 4, 5, 6, 7, 8, 9, 10])\n",
        "print(np.flip(arr))"
      ],
      "metadata": {
        "colab": {
          "base_uri": "https://localhost:8080/"
        },
        "id": "TaJ1pQZHIBVn",
        "outputId": "57e65d90-637d-406b-84ed-683ee0aaaba8"
      },
      "execution_count": 59,
      "outputs": [
        {
          "output_type": "stream",
          "name": "stdout",
          "text": [
            "[10  9  8  7  6  5  4  3  2  1]\n"
          ]
        }
      ]
    },
    {
      "cell_type": "markdown",
      "source": [
        "Создайте матрицу, выведите ее форму, размер и размерность."
      ],
      "metadata": {
        "id": "2SWnJmE0JHpV"
      }
    },
    {
      "cell_type": "code",
      "source": [
        "import numpy\n",
        "from numpy import ndarray\n",
        "\n",
        "arr = np.arange(27).reshape(3, 3, 3)\n",
        "print(arr.ndim)\n",
        "print(arr.size)\n",
        "print(arr.shape)"
      ],
      "metadata": {
        "colab": {
          "base_uri": "https://localhost:8080/"
        },
        "id": "Z-HqP311JIPf",
        "outputId": "8e23024a-895a-4051-e028-cd45e818a905"
      },
      "execution_count": 60,
      "outputs": [
        {
          "output_type": "stream",
          "name": "stdout",
          "text": [
            "3\n",
            "27\n",
            "(3, 3, 3)\n"
          ]
        }
      ]
    },
    {
      "cell_type": "markdown",
      "source": [
        "Найдитн евклидово расстояние между двумя Series (точками) a и b, не\n",
        "используя встроенную формулу."
      ],
      "metadata": {
        "id": "WPZcV5C6KH1A"
      }
    },
    {
      "cell_type": "code",
      "source": [
        "import pandas as pd\n",
        "import math\n",
        "\n",
        "x = pd.Series(dtype=int)\n",
        "y = pd.Series(dtype=int)\n",
        "\n",
        "for i in range(2):\n",
        "    xCoord = int(input(\"Введите x: \"))\n",
        "    yCoord = int(input(\"Введите y: \"))\n",
        "    x.at[i] = xCoord\n",
        "    y.at[i] = yCoord\n",
        "\n",
        "# Вычисляем расстояние\n",
        "xs = (x[0] - x[1]) ** 2\n",
        "ys = (y[0] - y[1]) ** 2\n",
        "print(math.sqrt(xs + ys))"
      ],
      "metadata": {
        "colab": {
          "base_uri": "https://localhost:8080/"
        },
        "id": "ddZZYsAiKINY",
        "outputId": "d74e7c3e-0e65-4447-b8c1-bb55c3a0b7ee"
      },
      "execution_count": 61,
      "outputs": [
        {
          "output_type": "stream",
          "name": "stdout",
          "text": [
            "Введите x: 1\n",
            "Введите y: 1\n",
            "Введите x: 1\n",
            "Введите y: 1\n",
            "0.0\n"
          ]
        }
      ]
    },
    {
      "cell_type": "markdown",
      "source": [
        "Найдите в Интернете ссылку на любой csv файл и сформируйте из него\n",
        "фрейм данных (например, коллекцию фреймов данных можно найти\n",
        "здесь: https://github.com/akmand/datasets)."
      ],
      "metadata": {
        "id": "knSENQLVM_SM"
      }
    },
    {
      "cell_type": "code",
      "source": [
        "import pandas as pd\n",
        "\n",
        "url = 'https://raw.githubusercontent.com/akmand/datasets/main/melbourne_house_prices.csv'\n",
        "\n",
        "df = pd.read_csv(url)\n",
        "\n",
        "print(df.head())"
      ],
      "metadata": {
        "colab": {
          "base_uri": "https://localhost:8080/"
        },
        "id": "IihYa27XM_nO",
        "outputId": "a49a90a6-fc82-4cd4-c48f-3148e7d924ed"
      },
      "execution_count": 62,
      "outputs": [
        {
          "output_type": "stream",
          "name": "stdout",
          "text": [
            "         Date        Suburb  Rooms Type Method    SellerG  Distance  Postcode  \\\n",
            "0  23/09/2017    Aberfeldie      5    h      S    Rendina       7.5      3040   \n",
            "1  23/09/2017  Airport West      3    h      S       Brad      10.4      3042   \n",
            "2  23/09/2017  Airport West      3    h      S  Harcourts      10.4      3042   \n",
            "3  23/09/2017     Albanvale      3    h      S      Bells      14.0      3021   \n",
            "4  23/09/2017   Albert Park      3    h     VB     Cayzer       3.0      3206   \n",
            "\n",
            "   Bedroom2  Bathroom  Car  Landsize  BuildingArea  YearBuilt CouncilArea  \\\n",
            "0         5         4  4.0       730         373.0     2014.0         NaN   \n",
            "1         3         1  2.0       551          96.0     1950.0         NaN   \n",
            "2         3         2  2.0       593           NaN        NaN         NaN   \n",
            "3         3         1  2.0       619           NaN        NaN         NaN   \n",
            "4         3         2  NaN       137         125.0     1890.0         NaN   \n",
            "\n",
            "   Lattitude  Longtitude             Regionname  Propertycount    Price  \n",
            "0  -37.75950   144.89427   Western Metropolitan           1543  1830000  \n",
            "1  -37.72739   144.88235   Western Metropolitan           3464   850000  \n",
            "2  -37.72057   144.87558   Western Metropolitan           3464   860000  \n",
            "3  -37.74521   144.76863   Western Metropolitan           1899   565000  \n",
            "4  -37.84388   144.95303  Southern Metropolitan           3280  2100000  \n"
          ]
        }
      ]
    },
    {
      "cell_type": "markdown",
      "source": [
        "Проделайте с получившемся из предыдущего задания фреймом данных\n",
        "те же действия, что и в примерах 2.2.5-2.2.7."
      ],
      "metadata": {
        "id": "Se6vW_a_NHip"
      }
    },
    {
      "cell_type": "code",
      "source": [
        "import pandas as pd\n",
        "\n",
        "url = 'https://raw.githubusercontent.com/akmand/datasets/main/melbourne_house_prices.csv'\n",
        "\n",
        "df = pd.read_csv(url)\n",
        "\n",
        "df.head(2)\n",
        "df.tail(3)\n",
        "df.shape\n",
        "df.describe()\n",
        "df.iloc[1:4]\n",
        "\n",
        "df[df['Suburb'] == 'Airport West'].head(7)"
      ],
      "metadata": {
        "colab": {
          "base_uri": "https://localhost:8080/",
          "height": 405
        },
        "id": "8QkNxDbmNLfW",
        "outputId": "f1b502a7-0081-4696-a4ea-2c952db7e511"
      },
      "execution_count": 65,
      "outputs": [
        {
          "output_type": "execute_result",
          "data": {
            "text/plain": [
              "            Date        Suburb  Rooms Type Method    SellerG  Distance  \\\n",
              "1     23/09/2017  Airport West      3    h      S       Brad      10.4   \n",
              "2     23/09/2017  Airport West      3    h      S  Harcourts      10.4   \n",
              "502    9/09/2017  Airport West      3    h      S      Barry      10.4   \n",
              "503    9/09/2017  Airport West      3    h      S     Nelson      10.4   \n",
              "920   26/08/2017  Airport West      3    h      S      Barry      10.4   \n",
              "921   26/08/2017  Airport West      3    h      S     Jellis      10.4   \n",
              "1372  12/08/2017  Airport West      3    u     VB      Barry      10.4   \n",
              "\n",
              "      Postcode  Bedroom2  Bathroom  Car  Landsize  BuildingArea  YearBuilt  \\\n",
              "1         3042         3         1  2.0       551          96.0     1950.0   \n",
              "2         3042         3         2  2.0       593           NaN        NaN   \n",
              "502       3042         3         1  1.0       767           NaN        NaN   \n",
              "503       3042         3         2  1.0       697         163.0     2017.0   \n",
              "920       3042         3         1  1.0       697           NaN        NaN   \n",
              "921       3042         3         1  3.0       626           NaN        NaN   \n",
              "1372      3042         3         2  1.0       239           NaN        NaN   \n",
              "\n",
              "        CouncilArea  Lattitude  Longtitude            Regionname  \\\n",
              "1               NaN  -37.72739   144.88235  Western Metropolitan   \n",
              "2               NaN  -37.72057   144.87558  Western Metropolitan   \n",
              "502             NaN  -37.72180   144.88391  Western Metropolitan   \n",
              "503             NaN  -37.72812   144.88735  Western Metropolitan   \n",
              "920             NaN  -37.73254   144.88321  Western Metropolitan   \n",
              "921             NaN  -37.71919   144.87842  Western Metropolitan   \n",
              "1372  Moonee Valley  -37.73351   144.88749  Western Metropolitan   \n",
              "\n",
              "      Propertycount    Price  \n",
              "1              3464   850000  \n",
              "2              3464   860000  \n",
              "502            3464  1064000  \n",
              "503            3464  1000001  \n",
              "920            3464   975500  \n",
              "921            3464   880000  \n",
              "1372           3464   700000  "
            ],
            "text/html": [
              "\n",
              "  <div id=\"df-1d47a3ae-40f7-4f49-9cda-93aee0a5666b\" class=\"colab-df-container\">\n",
              "    <div>\n",
              "<style scoped>\n",
              "    .dataframe tbody tr th:only-of-type {\n",
              "        vertical-align: middle;\n",
              "    }\n",
              "\n",
              "    .dataframe tbody tr th {\n",
              "        vertical-align: top;\n",
              "    }\n",
              "\n",
              "    .dataframe thead th {\n",
              "        text-align: right;\n",
              "    }\n",
              "</style>\n",
              "<table border=\"1\" class=\"dataframe\">\n",
              "  <thead>\n",
              "    <tr style=\"text-align: right;\">\n",
              "      <th></th>\n",
              "      <th>Date</th>\n",
              "      <th>Suburb</th>\n",
              "      <th>Rooms</th>\n",
              "      <th>Type</th>\n",
              "      <th>Method</th>\n",
              "      <th>SellerG</th>\n",
              "      <th>Distance</th>\n",
              "      <th>Postcode</th>\n",
              "      <th>Bedroom2</th>\n",
              "      <th>Bathroom</th>\n",
              "      <th>Car</th>\n",
              "      <th>Landsize</th>\n",
              "      <th>BuildingArea</th>\n",
              "      <th>YearBuilt</th>\n",
              "      <th>CouncilArea</th>\n",
              "      <th>Lattitude</th>\n",
              "      <th>Longtitude</th>\n",
              "      <th>Regionname</th>\n",
              "      <th>Propertycount</th>\n",
              "      <th>Price</th>\n",
              "    </tr>\n",
              "  </thead>\n",
              "  <tbody>\n",
              "    <tr>\n",
              "      <th>1</th>\n",
              "      <td>23/09/2017</td>\n",
              "      <td>Airport West</td>\n",
              "      <td>3</td>\n",
              "      <td>h</td>\n",
              "      <td>S</td>\n",
              "      <td>Brad</td>\n",
              "      <td>10.4</td>\n",
              "      <td>3042</td>\n",
              "      <td>3</td>\n",
              "      <td>1</td>\n",
              "      <td>2.0</td>\n",
              "      <td>551</td>\n",
              "      <td>96.0</td>\n",
              "      <td>1950.0</td>\n",
              "      <td>NaN</td>\n",
              "      <td>-37.72739</td>\n",
              "      <td>144.88235</td>\n",
              "      <td>Western Metropolitan</td>\n",
              "      <td>3464</td>\n",
              "      <td>850000</td>\n",
              "    </tr>\n",
              "    <tr>\n",
              "      <th>2</th>\n",
              "      <td>23/09/2017</td>\n",
              "      <td>Airport West</td>\n",
              "      <td>3</td>\n",
              "      <td>h</td>\n",
              "      <td>S</td>\n",
              "      <td>Harcourts</td>\n",
              "      <td>10.4</td>\n",
              "      <td>3042</td>\n",
              "      <td>3</td>\n",
              "      <td>2</td>\n",
              "      <td>2.0</td>\n",
              "      <td>593</td>\n",
              "      <td>NaN</td>\n",
              "      <td>NaN</td>\n",
              "      <td>NaN</td>\n",
              "      <td>-37.72057</td>\n",
              "      <td>144.87558</td>\n",
              "      <td>Western Metropolitan</td>\n",
              "      <td>3464</td>\n",
              "      <td>860000</td>\n",
              "    </tr>\n",
              "    <tr>\n",
              "      <th>502</th>\n",
              "      <td>9/09/2017</td>\n",
              "      <td>Airport West</td>\n",
              "      <td>3</td>\n",
              "      <td>h</td>\n",
              "      <td>S</td>\n",
              "      <td>Barry</td>\n",
              "      <td>10.4</td>\n",
              "      <td>3042</td>\n",
              "      <td>3</td>\n",
              "      <td>1</td>\n",
              "      <td>1.0</td>\n",
              "      <td>767</td>\n",
              "      <td>NaN</td>\n",
              "      <td>NaN</td>\n",
              "      <td>NaN</td>\n",
              "      <td>-37.72180</td>\n",
              "      <td>144.88391</td>\n",
              "      <td>Western Metropolitan</td>\n",
              "      <td>3464</td>\n",
              "      <td>1064000</td>\n",
              "    </tr>\n",
              "    <tr>\n",
              "      <th>503</th>\n",
              "      <td>9/09/2017</td>\n",
              "      <td>Airport West</td>\n",
              "      <td>3</td>\n",
              "      <td>h</td>\n",
              "      <td>S</td>\n",
              "      <td>Nelson</td>\n",
              "      <td>10.4</td>\n",
              "      <td>3042</td>\n",
              "      <td>3</td>\n",
              "      <td>2</td>\n",
              "      <td>1.0</td>\n",
              "      <td>697</td>\n",
              "      <td>163.0</td>\n",
              "      <td>2017.0</td>\n",
              "      <td>NaN</td>\n",
              "      <td>-37.72812</td>\n",
              "      <td>144.88735</td>\n",
              "      <td>Western Metropolitan</td>\n",
              "      <td>3464</td>\n",
              "      <td>1000001</td>\n",
              "    </tr>\n",
              "    <tr>\n",
              "      <th>920</th>\n",
              "      <td>26/08/2017</td>\n",
              "      <td>Airport West</td>\n",
              "      <td>3</td>\n",
              "      <td>h</td>\n",
              "      <td>S</td>\n",
              "      <td>Barry</td>\n",
              "      <td>10.4</td>\n",
              "      <td>3042</td>\n",
              "      <td>3</td>\n",
              "      <td>1</td>\n",
              "      <td>1.0</td>\n",
              "      <td>697</td>\n",
              "      <td>NaN</td>\n",
              "      <td>NaN</td>\n",
              "      <td>NaN</td>\n",
              "      <td>-37.73254</td>\n",
              "      <td>144.88321</td>\n",
              "      <td>Western Metropolitan</td>\n",
              "      <td>3464</td>\n",
              "      <td>975500</td>\n",
              "    </tr>\n",
              "    <tr>\n",
              "      <th>921</th>\n",
              "      <td>26/08/2017</td>\n",
              "      <td>Airport West</td>\n",
              "      <td>3</td>\n",
              "      <td>h</td>\n",
              "      <td>S</td>\n",
              "      <td>Jellis</td>\n",
              "      <td>10.4</td>\n",
              "      <td>3042</td>\n",
              "      <td>3</td>\n",
              "      <td>1</td>\n",
              "      <td>3.0</td>\n",
              "      <td>626</td>\n",
              "      <td>NaN</td>\n",
              "      <td>NaN</td>\n",
              "      <td>NaN</td>\n",
              "      <td>-37.71919</td>\n",
              "      <td>144.87842</td>\n",
              "      <td>Western Metropolitan</td>\n",
              "      <td>3464</td>\n",
              "      <td>880000</td>\n",
              "    </tr>\n",
              "    <tr>\n",
              "      <th>1372</th>\n",
              "      <td>12/08/2017</td>\n",
              "      <td>Airport West</td>\n",
              "      <td>3</td>\n",
              "      <td>u</td>\n",
              "      <td>VB</td>\n",
              "      <td>Barry</td>\n",
              "      <td>10.4</td>\n",
              "      <td>3042</td>\n",
              "      <td>3</td>\n",
              "      <td>2</td>\n",
              "      <td>1.0</td>\n",
              "      <td>239</td>\n",
              "      <td>NaN</td>\n",
              "      <td>NaN</td>\n",
              "      <td>Moonee Valley</td>\n",
              "      <td>-37.73351</td>\n",
              "      <td>144.88749</td>\n",
              "      <td>Western Metropolitan</td>\n",
              "      <td>3464</td>\n",
              "      <td>700000</td>\n",
              "    </tr>\n",
              "  </tbody>\n",
              "</table>\n",
              "</div>\n",
              "    <div class=\"colab-df-buttons\">\n",
              "\n",
              "  <div class=\"colab-df-container\">\n",
              "    <button class=\"colab-df-convert\" onclick=\"convertToInteractive('df-1d47a3ae-40f7-4f49-9cda-93aee0a5666b')\"\n",
              "            title=\"Convert this dataframe to an interactive table.\"\n",
              "            style=\"display:none;\">\n",
              "\n",
              "  <svg xmlns=\"http://www.w3.org/2000/svg\" height=\"24px\" viewBox=\"0 -960 960 960\">\n",
              "    <path d=\"M120-120v-720h720v720H120Zm60-500h600v-160H180v160Zm220 220h160v-160H400v160Zm0 220h160v-160H400v160ZM180-400h160v-160H180v160Zm440 0h160v-160H620v160ZM180-180h160v-160H180v160Zm440 0h160v-160H620v160Z\"/>\n",
              "  </svg>\n",
              "    </button>\n",
              "\n",
              "  <style>\n",
              "    .colab-df-container {\n",
              "      display:flex;\n",
              "      gap: 12px;\n",
              "    }\n",
              "\n",
              "    .colab-df-convert {\n",
              "      background-color: #E8F0FE;\n",
              "      border: none;\n",
              "      border-radius: 50%;\n",
              "      cursor: pointer;\n",
              "      display: none;\n",
              "      fill: #1967D2;\n",
              "      height: 32px;\n",
              "      padding: 0 0 0 0;\n",
              "      width: 32px;\n",
              "    }\n",
              "\n",
              "    .colab-df-convert:hover {\n",
              "      background-color: #E2EBFA;\n",
              "      box-shadow: 0px 1px 2px rgba(60, 64, 67, 0.3), 0px 1px 3px 1px rgba(60, 64, 67, 0.15);\n",
              "      fill: #174EA6;\n",
              "    }\n",
              "\n",
              "    .colab-df-buttons div {\n",
              "      margin-bottom: 4px;\n",
              "    }\n",
              "\n",
              "    [theme=dark] .colab-df-convert {\n",
              "      background-color: #3B4455;\n",
              "      fill: #D2E3FC;\n",
              "    }\n",
              "\n",
              "    [theme=dark] .colab-df-convert:hover {\n",
              "      background-color: #434B5C;\n",
              "      box-shadow: 0px 1px 3px 1px rgba(0, 0, 0, 0.15);\n",
              "      filter: drop-shadow(0px 1px 2px rgba(0, 0, 0, 0.3));\n",
              "      fill: #FFFFFF;\n",
              "    }\n",
              "  </style>\n",
              "\n",
              "    <script>\n",
              "      const buttonEl =\n",
              "        document.querySelector('#df-1d47a3ae-40f7-4f49-9cda-93aee0a5666b button.colab-df-convert');\n",
              "      buttonEl.style.display =\n",
              "        google.colab.kernel.accessAllowed ? 'block' : 'none';\n",
              "\n",
              "      async function convertToInteractive(key) {\n",
              "        const element = document.querySelector('#df-1d47a3ae-40f7-4f49-9cda-93aee0a5666b');\n",
              "        const dataTable =\n",
              "          await google.colab.kernel.invokeFunction('convertToInteractive',\n",
              "                                                    [key], {});\n",
              "        if (!dataTable) return;\n",
              "\n",
              "        const docLinkHtml = 'Like what you see? Visit the ' +\n",
              "          '<a target=\"_blank\" href=https://colab.research.google.com/notebooks/data_table.ipynb>data table notebook</a>'\n",
              "          + ' to learn more about interactive tables.';\n",
              "        element.innerHTML = '';\n",
              "        dataTable['output_type'] = 'display_data';\n",
              "        await google.colab.output.renderOutput(dataTable, element);\n",
              "        const docLink = document.createElement('div');\n",
              "        docLink.innerHTML = docLinkHtml;\n",
              "        element.appendChild(docLink);\n",
              "      }\n",
              "    </script>\n",
              "  </div>\n",
              "\n",
              "\n",
              "    <div id=\"df-c4c9eebc-963e-442b-b6d1-11008c989ecc\">\n",
              "      <button class=\"colab-df-quickchart\" onclick=\"quickchart('df-c4c9eebc-963e-442b-b6d1-11008c989ecc')\"\n",
              "                title=\"Suggest charts\"\n",
              "                style=\"display:none;\">\n",
              "\n",
              "<svg xmlns=\"http://www.w3.org/2000/svg\" height=\"24px\"viewBox=\"0 0 24 24\"\n",
              "     width=\"24px\">\n",
              "    <g>\n",
              "        <path d=\"M19 3H5c-1.1 0-2 .9-2 2v14c0 1.1.9 2 2 2h14c1.1 0 2-.9 2-2V5c0-1.1-.9-2-2-2zM9 17H7v-7h2v7zm4 0h-2V7h2v10zm4 0h-2v-4h2v4z\"/>\n",
              "    </g>\n",
              "</svg>\n",
              "      </button>\n",
              "\n",
              "<style>\n",
              "  .colab-df-quickchart {\n",
              "      --bg-color: #E8F0FE;\n",
              "      --fill-color: #1967D2;\n",
              "      --hover-bg-color: #E2EBFA;\n",
              "      --hover-fill-color: #174EA6;\n",
              "      --disabled-fill-color: #AAA;\n",
              "      --disabled-bg-color: #DDD;\n",
              "  }\n",
              "\n",
              "  [theme=dark] .colab-df-quickchart {\n",
              "      --bg-color: #3B4455;\n",
              "      --fill-color: #D2E3FC;\n",
              "      --hover-bg-color: #434B5C;\n",
              "      --hover-fill-color: #FFFFFF;\n",
              "      --disabled-bg-color: #3B4455;\n",
              "      --disabled-fill-color: #666;\n",
              "  }\n",
              "\n",
              "  .colab-df-quickchart {\n",
              "    background-color: var(--bg-color);\n",
              "    border: none;\n",
              "    border-radius: 50%;\n",
              "    cursor: pointer;\n",
              "    display: none;\n",
              "    fill: var(--fill-color);\n",
              "    height: 32px;\n",
              "    padding: 0;\n",
              "    width: 32px;\n",
              "  }\n",
              "\n",
              "  .colab-df-quickchart:hover {\n",
              "    background-color: var(--hover-bg-color);\n",
              "    box-shadow: 0 1px 2px rgba(60, 64, 67, 0.3), 0 1px 3px 1px rgba(60, 64, 67, 0.15);\n",
              "    fill: var(--button-hover-fill-color);\n",
              "  }\n",
              "\n",
              "  .colab-df-quickchart-complete:disabled,\n",
              "  .colab-df-quickchart-complete:disabled:hover {\n",
              "    background-color: var(--disabled-bg-color);\n",
              "    fill: var(--disabled-fill-color);\n",
              "    box-shadow: none;\n",
              "  }\n",
              "\n",
              "  .colab-df-spinner {\n",
              "    border: 2px solid var(--fill-color);\n",
              "    border-color: transparent;\n",
              "    border-bottom-color: var(--fill-color);\n",
              "    animation:\n",
              "      spin 1s steps(1) infinite;\n",
              "  }\n",
              "\n",
              "  @keyframes spin {\n",
              "    0% {\n",
              "      border-color: transparent;\n",
              "      border-bottom-color: var(--fill-color);\n",
              "      border-left-color: var(--fill-color);\n",
              "    }\n",
              "    20% {\n",
              "      border-color: transparent;\n",
              "      border-left-color: var(--fill-color);\n",
              "      border-top-color: var(--fill-color);\n",
              "    }\n",
              "    30% {\n",
              "      border-color: transparent;\n",
              "      border-left-color: var(--fill-color);\n",
              "      border-top-color: var(--fill-color);\n",
              "      border-right-color: var(--fill-color);\n",
              "    }\n",
              "    40% {\n",
              "      border-color: transparent;\n",
              "      border-right-color: var(--fill-color);\n",
              "      border-top-color: var(--fill-color);\n",
              "    }\n",
              "    60% {\n",
              "      border-color: transparent;\n",
              "      border-right-color: var(--fill-color);\n",
              "    }\n",
              "    80% {\n",
              "      border-color: transparent;\n",
              "      border-right-color: var(--fill-color);\n",
              "      border-bottom-color: var(--fill-color);\n",
              "    }\n",
              "    90% {\n",
              "      border-color: transparent;\n",
              "      border-bottom-color: var(--fill-color);\n",
              "    }\n",
              "  }\n",
              "</style>\n",
              "\n",
              "      <script>\n",
              "        async function quickchart(key) {\n",
              "          const quickchartButtonEl =\n",
              "            document.querySelector('#' + key + ' button');\n",
              "          quickchartButtonEl.disabled = true;  // To prevent multiple clicks.\n",
              "          quickchartButtonEl.classList.add('colab-df-spinner');\n",
              "          try {\n",
              "            const charts = await google.colab.kernel.invokeFunction(\n",
              "                'suggestCharts', [key], {});\n",
              "          } catch (error) {\n",
              "            console.error('Error during call to suggestCharts:', error);\n",
              "          }\n",
              "          quickchartButtonEl.classList.remove('colab-df-spinner');\n",
              "          quickchartButtonEl.classList.add('colab-df-quickchart-complete');\n",
              "        }\n",
              "        (() => {\n",
              "          let quickchartButtonEl =\n",
              "            document.querySelector('#df-c4c9eebc-963e-442b-b6d1-11008c989ecc button');\n",
              "          quickchartButtonEl.style.display =\n",
              "            google.colab.kernel.accessAllowed ? 'block' : 'none';\n",
              "        })();\n",
              "      </script>\n",
              "    </div>\n",
              "    </div>\n",
              "  </div>\n"
            ],
            "application/vnd.google.colaboratory.intrinsic+json": {
              "type": "dataframe",
              "repr_error": "0"
            }
          },
          "metadata": {},
          "execution_count": 65
        }
      ]
    },
    {
      "cell_type": "markdown",
      "source": [],
      "metadata": {
        "id": "FwoJILK1OJ8D"
      }
    },
    {
      "cell_type": "code",
      "source": [
        "import pandas as pd\n",
        "from sklearn.preprocessing import MinMaxScaler, StandardScaler\n",
        "\n",
        "url = 'https://raw.githubusercontent.com/akmand/datasets/master/iris.csv'\n",
        "df = pd.read_csv(url)\n",
        "\n",
        "print(df.head())\n",
        "\n",
        "min_max_scaler = MinMaxScaler()\n",
        "standard_scaler = StandardScaler()\n",
        "\n",
        "df['sepal_length_cm'] = min_max_scaler.fit_transform(df[['sepal_length_cm']])\n",
        "df['sepal_width_cm'] = standard_scaler.fit_transform(df[['sepal_width_cm']])\n",
        "\n",
        "print(df.head())"
      ],
      "metadata": {
        "colab": {
          "base_uri": "https://localhost:8080/"
        },
        "id": "d9052oJiOJq7",
        "outputId": "a14c6b80-3be1-4537-f99c-cbf337f80bb7"
      },
      "execution_count": 66,
      "outputs": [
        {
          "output_type": "stream",
          "name": "stdout",
          "text": [
            "   sepal_length_cm  sepal_width_cm  petal_length_cm  petal_width_cm species\n",
            "0              5.1             3.5              1.4             0.2  setosa\n",
            "1              4.9             3.0              1.4             0.2  setosa\n",
            "2              4.7             3.2              1.3             0.2  setosa\n",
            "3              4.6             3.1              1.5             0.2  setosa\n",
            "4              5.0             3.6              1.4             0.2  setosa\n",
            "   sepal_length_cm  sepal_width_cm  petal_length_cm  petal_width_cm species\n",
            "0         0.222222        1.032057              1.4             0.2  setosa\n",
            "1         0.166667       -0.124958              1.4             0.2  setosa\n",
            "2         0.111111        0.337848              1.3             0.2  setosa\n",
            "3         0.083333        0.106445              1.5             0.2  setosa\n",
            "4         0.194444        1.263460              1.4             0.2  setosa\n"
          ]
        }
      ]
    }
  ]
}